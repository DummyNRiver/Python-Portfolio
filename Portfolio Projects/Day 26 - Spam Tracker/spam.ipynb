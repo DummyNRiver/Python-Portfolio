{
 "cells": [
  {
   "cell_type": "code",
   "execution_count": 1,
   "id": "8aa0f425",
   "metadata": {},
   "outputs": [],
   "source": [
    "import pandas as pd \n",
    "import numpy as np\n",
    "import matplotlib.pyplot as plt\n",
    "import seaborn as sns\n",
    "\n",
    "from scipy.stats import mannwhitneyu\n",
    "from sklearn.feature_extraction.text import TfidfVectorizer\n",
    "from sklearn.model_selection import train_test_split, GridSearchCV, learning_curve, cross_val_score\n",
    "from sklearn.metrics import accuracy_score, f1_score, make_scorer, precision_score, recall_score\n",
    "from sklearn.linear_model import LogisticRegression\n",
    "from sklearn.ensemble import RandomForestClassifier\n",
    "from sklearn.naive_bayes import MultinomialNB\n",
    "from sklearn.svm import SVC\n"
   ]
  },
  {
   "cell_type": "code",
   "execution_count": 2,
   "id": "1d2c955b",
   "metadata": {},
   "outputs": [],
   "source": [
    "df = pd.read_csv(r'C:\\Users\\jaraneses\\OneDrive - 2X LLC\\Codes\\Portfolio Projects_storage\\Day 26 - Spam Tracker\\mail_data.csv')"
   ]
  },
  {
   "cell_type": "code",
   "execution_count": 3,
   "id": "6f9c1490",
   "metadata": {},
   "outputs": [
    {
     "data": {
      "text/html": [
       "<div>\n",
       "<style scoped>\n",
       "    .dataframe tbody tr th:only-of-type {\n",
       "        vertical-align: middle;\n",
       "    }\n",
       "\n",
       "    .dataframe tbody tr th {\n",
       "        vertical-align: top;\n",
       "    }\n",
       "\n",
       "    .dataframe thead th {\n",
       "        text-align: right;\n",
       "    }\n",
       "</style>\n",
       "<table border=\"1\" class=\"dataframe\">\n",
       "  <thead>\n",
       "    <tr style=\"text-align: right;\">\n",
       "      <th></th>\n",
       "      <th>Category</th>\n",
       "      <th>Message</th>\n",
       "    </tr>\n",
       "  </thead>\n",
       "  <tbody>\n",
       "    <tr>\n",
       "      <th>0</th>\n",
       "      <td>ham</td>\n",
       "      <td>Go until jurong point, crazy.. Available only ...</td>\n",
       "    </tr>\n",
       "    <tr>\n",
       "      <th>1</th>\n",
       "      <td>ham</td>\n",
       "      <td>Ok lar... Joking wif u oni...</td>\n",
       "    </tr>\n",
       "    <tr>\n",
       "      <th>2</th>\n",
       "      <td>spam</td>\n",
       "      <td>Free entry in 2 a wkly comp to win FA Cup fina...</td>\n",
       "    </tr>\n",
       "    <tr>\n",
       "      <th>3</th>\n",
       "      <td>ham</td>\n",
       "      <td>U dun say so early hor... U c already then say...</td>\n",
       "    </tr>\n",
       "    <tr>\n",
       "      <th>4</th>\n",
       "      <td>ham</td>\n",
       "      <td>Nah I don't think he goes to usf, he lives aro...</td>\n",
       "    </tr>\n",
       "  </tbody>\n",
       "</table>\n",
       "</div>"
      ],
      "text/plain": [
       "  Category                                            Message\n",
       "0      ham  Go until jurong point, crazy.. Available only ...\n",
       "1      ham                      Ok lar... Joking wif u oni...\n",
       "2     spam  Free entry in 2 a wkly comp to win FA Cup fina...\n",
       "3      ham  U dun say so early hor... U c already then say...\n",
       "4      ham  Nah I don't think he goes to usf, he lives aro..."
      ]
     },
     "execution_count": 3,
     "metadata": {},
     "output_type": "execute_result"
    }
   ],
   "source": [
    "df.head()"
   ]
  },
  {
   "cell_type": "code",
   "execution_count": 4,
   "id": "2ad2916c",
   "metadata": {},
   "outputs": [
    {
     "name": "stdout",
     "output_type": "stream",
     "text": [
      "<class 'pandas.core.frame.DataFrame'>\n",
      "RangeIndex: 5572 entries, 0 to 5571\n",
      "Data columns (total 2 columns):\n",
      " #   Column    Non-Null Count  Dtype \n",
      "---  ------    --------------  ----- \n",
      " 0   Category  5572 non-null   object\n",
      " 1   Message   5572 non-null   object\n",
      "dtypes: object(2)\n",
      "memory usage: 87.2+ KB\n"
     ]
    }
   ],
   "source": [
    "df.info()"
   ]
  },
  {
   "cell_type": "code",
   "execution_count": 5,
   "id": "c3901dcd",
   "metadata": {},
   "outputs": [
    {
     "data": {
      "text/plain": [
       "Category\n",
       "ham     4825\n",
       "spam     747\n",
       "Name: count, dtype: int64"
      ]
     },
     "execution_count": 5,
     "metadata": {},
     "output_type": "execute_result"
    }
   ],
   "source": [
    "df.Category.value_counts()"
   ]
  },
  {
   "cell_type": "code",
   "execution_count": 6,
   "id": "cec12ed1",
   "metadata": {},
   "outputs": [],
   "source": [
    "df.Category = df.Category.apply(lambda x : 0 if x == 'ham' else 1)"
   ]
  },
  {
   "cell_type": "code",
   "execution_count": 7,
   "id": "2b9b3a60",
   "metadata": {},
   "outputs": [
    {
     "data": {
      "text/html": [
       "<div>\n",
       "<style scoped>\n",
       "    .dataframe tbody tr th:only-of-type {\n",
       "        vertical-align: middle;\n",
       "    }\n",
       "\n",
       "    .dataframe tbody tr th {\n",
       "        vertical-align: top;\n",
       "    }\n",
       "\n",
       "    .dataframe thead th {\n",
       "        text-align: right;\n",
       "    }\n",
       "</style>\n",
       "<table border=\"1\" class=\"dataframe\">\n",
       "  <thead>\n",
       "    <tr style=\"text-align: right;\">\n",
       "      <th></th>\n",
       "      <th>Category</th>\n",
       "      <th>Message</th>\n",
       "    </tr>\n",
       "  </thead>\n",
       "  <tbody>\n",
       "    <tr>\n",
       "      <th>0</th>\n",
       "      <td>0</td>\n",
       "      <td>Go until jurong point, crazy.. Available only ...</td>\n",
       "    </tr>\n",
       "    <tr>\n",
       "      <th>1</th>\n",
       "      <td>0</td>\n",
       "      <td>Ok lar... Joking wif u oni...</td>\n",
       "    </tr>\n",
       "    <tr>\n",
       "      <th>2</th>\n",
       "      <td>1</td>\n",
       "      <td>Free entry in 2 a wkly comp to win FA Cup fina...</td>\n",
       "    </tr>\n",
       "    <tr>\n",
       "      <th>3</th>\n",
       "      <td>0</td>\n",
       "      <td>U dun say so early hor... U c already then say...</td>\n",
       "    </tr>\n",
       "    <tr>\n",
       "      <th>4</th>\n",
       "      <td>0</td>\n",
       "      <td>Nah I don't think he goes to usf, he lives aro...</td>\n",
       "    </tr>\n",
       "  </tbody>\n",
       "</table>\n",
       "</div>"
      ],
      "text/plain": [
       "   Category                                            Message\n",
       "0         0  Go until jurong point, crazy.. Available only ...\n",
       "1         0                      Ok lar... Joking wif u oni...\n",
       "2         1  Free entry in 2 a wkly comp to win FA Cup fina...\n",
       "3         0  U dun say so early hor... U c already then say...\n",
       "4         0  Nah I don't think he goes to usf, he lives aro..."
      ]
     },
     "execution_count": 7,
     "metadata": {},
     "output_type": "execute_result"
    }
   ],
   "source": [
    "df.head()"
   ]
  },
  {
   "cell_type": "code",
   "execution_count": 8,
   "id": "7d5c5434",
   "metadata": {},
   "outputs": [
    {
     "data": {
      "text/plain": [
       "0       111\n",
       "1        29\n",
       "2       155\n",
       "3        49\n",
       "4        61\n",
       "       ... \n",
       "5567    160\n",
       "5568     36\n",
       "5569     57\n",
       "5570    125\n",
       "5571     26\n",
       "Name: length, Length: 5572, dtype: int64"
      ]
     },
     "execution_count": 8,
     "metadata": {},
     "output_type": "execute_result"
    }
   ],
   "source": [
    "df['length'] = df['Message'].str.len()\n",
    "df['length']"
   ]
  },
  {
   "cell_type": "code",
   "execution_count": 9,
   "id": "42a42512",
   "metadata": {},
   "outputs": [
    {
     "data": {
      "image/png": "[encoded data removed]",
      "text/plain": [
       "<Figure size 640x480 with 1 Axes>"
      ]
     },
     "metadata": {},
     "output_type": "display_data"
    }
   ],
   "source": [
    "sns.boxplot(data = df, x= 'Category', y = 'length')\n",
    "plt.title('Message Length by Category')\n",
    "plt.xlabel('Category (0 = Not Spam, 1 = Spam)')\n",
    "\n",
    "plt.tight_layout()\n",
    "plt.show()\n",
    "\n",
    "# Spam messages tend to be much longer than not spams\n",
    "# outliers observed in the not spam could indicated long messages"
   ]
  },
  {
   "cell_type": "code",
   "execution_count": 10,
   "id": "641c892e",
   "metadata": {},
   "outputs": [
    {
     "name": "stdout",
     "output_type": "stream",
     "text": [
      "Mann-Whitney U test p-value: 2.4097321004015766e-231\n",
      "Median spam length: 149\n",
      "Median non spam length: 52\n"
     ]
    }
   ],
   "source": [
    "# Test if difference is significant\n",
    "from scipy.stats import mannwhitneyu\n",
    "\n",
    "spam_lengths = df[df['Category'] == 1]['length']\n",
    "ham_lengths = df[df['Category'] == 0]['length']\n",
    "\n",
    "statistic, p_value = mannwhitneyu(spam_lengths, ham_lengths)\n",
    "print(f\"Mann-Whitney U test p-value: {p_value}\")\n",
    "print(f\"Median spam length: {spam_lengths.median():.0f}\")\n",
    "print(f\"Median non spam length: {ham_lengths.median():.0f}\")\n",
    "\n",
    "# If p_value < 0.05, difference is statistically significant\n",
    "# Only shows that spam are 3x longer [149] to non spam"
   ]
  },
  {
   "cell_type": "code",
   "execution_count": 11,
   "id": "9a20acb3",
   "metadata": {},
   "outputs": [],
   "source": [
    "# For content \n",
    "\n",
    "tfidf = TfidfVectorizer(max_features= 3000, stop_words= 'english')"
   ]
  },
  {
   "cell_type": "code",
   "execution_count": 12,
   "id": "5b59ae98",
   "metadata": {},
   "outputs": [],
   "source": [
    "X = tfidf.fit_transform(df['Message'])\n",
    "y = df['Category']"
   ]
  },
  {
   "cell_type": "code",
   "execution_count": 13,
   "id": "6d4b6b7c",
   "metadata": {},
   "outputs": [],
   "source": [
    "X_train, X_test, y_train, y_test = train_test_split(X, y, test_size = 0.2, random_state = 2, stratify = y)"
   ]
  },
  {
   "cell_type": "code",
   "execution_count": 14,
   "id": "a702a2f7",
   "metadata": {},
   "outputs": [],
   "source": [
    "models = {\n",
    "    'Naive Bayes':{\n",
    "        'model': MultinomialNB(),\n",
    "        'params':{\n",
    "            'alpha': [0.1, 0.5, 1.0, 2.0]\n",
    "        }\n",
    "    },\n",
    "\n",
    "    'Logistic Regression':{\n",
    "        'model': LogisticRegression(random_state = 2),\n",
    "        'params':{\n",
    "            'C': [0.01, 0.05, 0.1],\n",
    "            'penalty': ['l2'],\n",
    "            'class_weight': ['balanced']\n",
    "        }\n",
    "    },\n",
    "\n",
    "    'RandomForestClassifier':{\n",
    "        'model': RandomForestClassifier(random_state= 2),\n",
    "        'params':{\n",
    "            'n_estimators': [50, 100],\n",
    "            'max_depth': [10, 20],\n",
    "            'min_samples_split': [2, 5],\n",
    "            'min_samples_leaf':[1, 2],\n",
    "            'class_weight': ['balanced']\n",
    "        }\n",
    "    },\n",
    "\n",
    "    'SVC':{\n",
    "        'model': SVC(probability= True, random_state= 2),\n",
    "        'params':{\n",
    "            'C':[0.1, 1],\n",
    "            'kernel': ['linear', 'rbf'],\n",
    "            'gamma': ['scale', 'auto'],\n",
    "            'class_weight': ['balanced']\n",
    "        }\n",
    "    }\n",
    "}"
   ]
  },
  {
   "cell_type": "code",
   "execution_count": 15,
   "id": "522fc00b",
   "metadata": {},
   "outputs": [
    {
     "name": "stdout",
     "output_type": "stream",
     "text": [
      "Fitting 5 folds for each of 4 candidates, totalling 20 fits\n",
      "Fitting 5 folds for each of 3 candidates, totalling 15 fits\n",
      "Fitting 5 folds for each of 16 candidates, totalling 80 fits\n",
      "Fitting 5 folds for each of 8 candidates, totalling 40 fits\n"
     ]
    }
   ],
   "source": [
    "results = {}\n",
    "all_models = {}\n",
    "\n",
    "for name, config in models.items():\n",
    "    grid_search = GridSearchCV(\n",
    "        config['model'],\n",
    "        config['params'],\n",
    "        cv = 5,\n",
    "        scoring = 'f1',\n",
    "        n_jobs = -1,\n",
    "        verbose = 1\n",
    "    )\n",
    "\n",
    "    grid_search.fit(X_train, y_train)\n",
    "    all_models[name] = grid_search.best_estimator_\n",
    "\n",
    "    train_pred = grid_search.best_estimator_.predict(X_train)\n",
    "    test_pred = grid_search.best_estimator_.predict(X_test)\n",
    "\n",
    "    results[name] = {\n",
    "        'best_model': grid_search.best_estimator_,\n",
    "        'best_params':grid_search.best_params_,\n",
    "        'Train Accuracy Score' : accuracy_score(y_train, train_pred),\n",
    "        'Test Accuracy Score': accuracy_score(y_test, test_pred),\n",
    "        'Train F1 Score' : f1_score(y_train, train_pred),\n",
    "        'Test F1 Score' : f1_score(y_test, test_pred),\n",
    "        'Test Precision': precision_score(y_test, test_pred),\n",
    "        'Test Recall': recall_score(y_test, test_pred)\n",
    "    }\n",
    "\n",
    "best_model_name = max(results.keys(), key = lambda x: results[x]['Test F1 Score'])\n",
    "best_model = results[best_model_name]['best_model']"
   ]
  },
  {
   "cell_type": "code",
   "execution_count": 16,
   "id": "51eefd68",
   "metadata": {},
   "outputs": [
    {
     "data": {
      "text/html": [
       "<div>\n",
       "<style scoped>\n",
       "    .dataframe tbody tr th:only-of-type {\n",
       "        vertical-align: middle;\n",
       "    }\n",
       "\n",
       "    .dataframe tbody tr th {\n",
       "        vertical-align: top;\n",
       "    }\n",
       "\n",
       "    .dataframe thead th {\n",
       "        text-align: right;\n",
       "    }\n",
       "</style>\n",
       "<table border=\"1\" class=\"dataframe\">\n",
       "  <thead>\n",
       "    <tr style=\"text-align: right;\">\n",
       "      <th></th>\n",
       "      <th>Model</th>\n",
       "      <th>F1 Score</th>\n",
       "      <th>Precision</th>\n",
       "      <th>Recall</th>\n",
       "      <th>Overfit Gap</th>\n",
       "    </tr>\n",
       "  </thead>\n",
       "  <tbody>\n",
       "    <tr>\n",
       "      <th>3</th>\n",
       "      <td>SVC</td>\n",
       "      <td>0.9268</td>\n",
       "      <td>0.9638</td>\n",
       "      <td>0.8926</td>\n",
       "      <td>0.0157</td>\n",
       "    </tr>\n",
       "    <tr>\n",
       "      <th>1</th>\n",
       "      <td>Logistic Regression</td>\n",
       "      <td>0.9263</td>\n",
       "      <td>0.9706</td>\n",
       "      <td>0.8859</td>\n",
       "      <td>-0.0002</td>\n",
       "    </tr>\n",
       "    <tr>\n",
       "      <th>0</th>\n",
       "      <td>Naive Bayes</td>\n",
       "      <td>0.9225</td>\n",
       "      <td>0.9704</td>\n",
       "      <td>0.8792</td>\n",
       "      <td>0.0108</td>\n",
       "    </tr>\n",
       "    <tr>\n",
       "      <th>2</th>\n",
       "      <td>RandomForestClassifier</td>\n",
       "      <td>0.9011</td>\n",
       "      <td>0.9919</td>\n",
       "      <td>0.8255</td>\n",
       "      <td>0.0069</td>\n",
       "    </tr>\n",
       "  </tbody>\n",
       "</table>\n",
       "</div>"
      ],
      "text/plain": [
       "                    Model  F1 Score  Precision  Recall  Overfit Gap\n",
       "3                     SVC    0.9268     0.9638  0.8926       0.0157\n",
       "1     Logistic Regression    0.9263     0.9706  0.8859      -0.0002\n",
       "0             Naive Bayes    0.9225     0.9704  0.8792       0.0108\n",
       "2  RandomForestClassifier    0.9011     0.9919  0.8255       0.0069"
      ]
     },
     "metadata": {},
     "output_type": "display_data"
    }
   ],
   "source": [
    "summary_data = []\n",
    "\n",
    "for name, result in results.items():\n",
    "    summary_data.append({\n",
    "    'Model': name,\n",
    "    'F1 Score': result['Test F1 Score'],\n",
    "    'Precision': result['Test Precision'],\n",
    "    'Recall': result['Test Recall'],\n",
    "    'Overfit Gap': result['Train Accuracy Score'] - result['Test Accuracy Score']\n",
    "    })\n",
    "\n",
    "summary_df = pd.DataFrame(summary_data)\n",
    "summary_df = summary_df.sort_values('F1 Score', ascending = False)\n",
    "summary_df = summary_df.round(4)\n",
    "display(summary_df)"
   ]
  },
  {
   "cell_type": "code",
   "execution_count": 17,
   "id": "a5125ab0",
   "metadata": {},
   "outputs": [
    {
     "data": {
      "image/png": "[encoded data removed]",
      "text/plain": [
       "<Figure size 1000x600 with 1 Axes>"
      ]
     },
     "metadata": {},
     "output_type": "display_data"
    }
   ],
   "source": [
    "train_sizes, train_scores, test_scores = learning_curve(\n",
    "    best_model,\n",
    "    X_train, y_train,\n",
    "    cv = 5,\n",
    "    scoring = 'f1',\n",
    "    train_sizes = np.linspace(0.1, 1.0, 10),\n",
    "    n_jobs = -1 \n",
    ")\n",
    "\n",
    "plt.figure(figsize= (10, 6))\n",
    "plt.plot(train_sizes, train_scores.mean(axis = 1), label = 'Training Score', marker = 'o')\n",
    "plt.plot(train_sizes, test_scores.mean(axis= 1), label = 'Test Score', marker = 'o')\n",
    "plt.xlabel('Training Set Sizes')\n",
    "plt.ylabel('F1 Score'),\n",
    "plt.title('Learning Curve - SVC')\n",
    "plt.legend()\n",
    "plt.grid(alpha = 0.3)\n",
    "plt.show()"
   ]
  },
  {
   "cell_type": "code",
   "execution_count": 18,
   "id": "db35dbd5",
   "metadata": {},
   "outputs": [
    {
     "name": "stdout",
     "output_type": "stream",
     "text": [
      "CV F1 Scores: [0.94468085 0.9122807  0.93162393 0.94871795 0.94915254]\n",
      "Mean: 0.937\n",
      "Std: 0.014\n"
     ]
    }
   ],
   "source": [
    "# Check if performance is stable across folds\n",
    "cv_scores = cross_val_score(\n",
    "    results['SVC']['best_model'],\n",
    "    X_train, y_train,\n",
    "    cv=5,\n",
    "    scoring='f1'\n",
    ")\n",
    "\n",
    "print(f\"CV F1 Scores: {cv_scores}\")\n",
    "print(f\"Mean: {cv_scores.mean():.3f}\")\n",
    "print(f\"Std: {cv_scores.std():.3f}\")\n",
    "\n",
    "# Low std = stable, high std = inconsistent"
   ]
  }
 ],
 "metadata": {
  "kernelspec": {
   "display_name": ".venv",
   "language": "python",
   "name": "python3"
  },
  "language_info": {
   "codemirror_mode": {
    "name": "ipython",
    "version": 3
   },
   "file_extension": ".py",
   "mimetype": "text/x-python",
   "name": "python",
   "nbconvert_exporter": "python",
   "pygments_lexer": "ipython3",
   "version": "3.11.9"
  }
 },
 "nbformat": 4,
 "nbformat_minor": 5
}
